{
 "cells": [
  {
   "cell_type": "code",
   "execution_count": 1,
   "metadata": {},
   "outputs": [
    {
     "data": {
      "text/plain": [
       "'en_CA.UTF-8'"
      ]
     },
     "execution_count": 1,
     "metadata": {},
     "output_type": "execute_result"
    }
   ],
   "source": [
    "# Import libraries and dependencies\n",
    "import numpy as np\n",
    "import pandas as pd\n",
    "import os\n",
    "from datetime import datetime, timedelta\n",
    "import matplotlib.pyplot as plt\n",
    "import alpaca_trade_api as tradeapi\n",
    "%matplotlib inline\n",
    "import locale\n",
    "locale.setlocale( locale.LC_ALL, 'en_CA.UTF-8' )"
   ]
  },
  {
   "cell_type": "code",
   "execution_count": 2,
   "metadata": {},
   "outputs": [],
   "source": [
    "np.random.seed(42)"
   ]
  },
  {
   "cell_type": "markdown",
   "metadata": {},
   "source": [
    "# Portfolio Planner\n",
    "\n",
    "In this activity, you will use the Alpaca api to grab historical data for a 60/40 portfolio using `SPY` to represent the stock portion and `AGG` to represent the bonds."
   ]
  },
  {
   "cell_type": "code",
   "execution_count": 3,
   "metadata": {},
   "outputs": [],
   "source": [
    "# Load .env enviroment variables\n",
    "from dotenv import load_dotenv\n",
    "load_dotenv()\n",
    "\n",
    "# Set Alpaca API key and secret\n",
    "alpaca_api_key = os.getenv(\"ALPACA_API_KEY\")\n",
    "alpaca_secret_key = os.getenv(\"ALPACA_SECRET_KEY\")\n",
    "\n",
    "# api = tradeapi.REST()\n",
    "api = tradeapi.REST(alpaca_api_key, alpaca_secret_key, api_version='v2')"
   ]
  },
  {
   "cell_type": "code",
   "execution_count": 4,
   "metadata": {},
   "outputs": [
    {
     "data": {
      "text/html": [
       "<div>\n",
       "<style scoped>\n",
       "    .dataframe tbody tr th:only-of-type {\n",
       "        vertical-align: middle;\n",
       "    }\n",
       "\n",
       "    .dataframe tbody tr th {\n",
       "        vertical-align: top;\n",
       "    }\n",
       "\n",
       "    .dataframe thead tr th {\n",
       "        text-align: left;\n",
       "    }\n",
       "</style>\n",
       "<table border=\"1\" class=\"dataframe\">\n",
       "  <thead>\n",
       "    <tr>\n",
       "      <th></th>\n",
       "      <th colspan=\"5\" halign=\"left\">AGG</th>\n",
       "      <th colspan=\"5\" halign=\"left\">SPY</th>\n",
       "    </tr>\n",
       "    <tr>\n",
       "      <th></th>\n",
       "      <th>open</th>\n",
       "      <th>high</th>\n",
       "      <th>low</th>\n",
       "      <th>close</th>\n",
       "      <th>volume</th>\n",
       "      <th>open</th>\n",
       "      <th>high</th>\n",
       "      <th>low</th>\n",
       "      <th>close</th>\n",
       "      <th>volume</th>\n",
       "    </tr>\n",
       "  </thead>\n",
       "  <tbody>\n",
       "    <tr>\n",
       "      <th>2019-12-16 00:00:00-05:00</th>\n",
       "      <td>112.68</td>\n",
       "      <td>112.690</td>\n",
       "      <td>112.500</td>\n",
       "      <td>112.580</td>\n",
       "      <td>2645199</td>\n",
       "      <td>319.22</td>\n",
       "      <td>320.15</td>\n",
       "      <td>317.2542</td>\n",
       "      <td>319.5100</td>\n",
       "      <td>60263122</td>\n",
       "    </tr>\n",
       "    <tr>\n",
       "      <th>2019-12-17 00:00:00-05:00</th>\n",
       "      <td>112.69</td>\n",
       "      <td>112.700</td>\n",
       "      <td>112.520</td>\n",
       "      <td>112.595</td>\n",
       "      <td>2268253</td>\n",
       "      <td>319.92</td>\n",
       "      <td>320.25</td>\n",
       "      <td>319.4800</td>\n",
       "      <td>319.5495</td>\n",
       "      <td>45097303</td>\n",
       "    </tr>\n",
       "    <tr>\n",
       "      <th>2019-12-18 00:00:00-05:00</th>\n",
       "      <td>112.55</td>\n",
       "      <td>112.555</td>\n",
       "      <td>112.360</td>\n",
       "      <td>112.380</td>\n",
       "      <td>3556902</td>\n",
       "      <td>320.00</td>\n",
       "      <td>320.25</td>\n",
       "      <td>319.5300</td>\n",
       "      <td>319.5800</td>\n",
       "      <td>39434730</td>\n",
       "    </tr>\n",
       "    <tr>\n",
       "      <th>2019-12-19 00:00:00-05:00</th>\n",
       "      <td>112.19</td>\n",
       "      <td>112.360</td>\n",
       "      <td>112.135</td>\n",
       "      <td>112.290</td>\n",
       "      <td>3869419</td>\n",
       "      <td>319.80</td>\n",
       "      <td>320.98</td>\n",
       "      <td>319.5246</td>\n",
       "      <td>320.9100</td>\n",
       "      <td>61273523</td>\n",
       "    </tr>\n",
       "    <tr>\n",
       "      <th>2019-12-20 00:00:00-05:00</th>\n",
       "      <td>112.21</td>\n",
       "      <td>112.330</td>\n",
       "      <td>112.150</td>\n",
       "      <td>112.310</td>\n",
       "      <td>7562264</td>\n",
       "      <td>320.46</td>\n",
       "      <td>321.45</td>\n",
       "      <td>319.3873</td>\n",
       "      <td>320.9500</td>\n",
       "      <td>89245466</td>\n",
       "    </tr>\n",
       "  </tbody>\n",
       "</table>\n",
       "</div>"
      ],
      "text/plain": [
       "                              AGG                                         SPY  \\\n",
       "                             open     high      low    close   volume    open   \n",
       "2019-12-16 00:00:00-05:00  112.68  112.690  112.500  112.580  2645199  319.22   \n",
       "2019-12-17 00:00:00-05:00  112.69  112.700  112.520  112.595  2268253  319.92   \n",
       "2019-12-18 00:00:00-05:00  112.55  112.555  112.360  112.380  3556902  320.00   \n",
       "2019-12-19 00:00:00-05:00  112.19  112.360  112.135  112.290  3869419  319.80   \n",
       "2019-12-20 00:00:00-05:00  112.21  112.330  112.150  112.310  7562264  320.46   \n",
       "\n",
       "                                                                 \n",
       "                             high       low     close    volume  \n",
       "2019-12-16 00:00:00-05:00  320.15  317.2542  319.5100  60263122  \n",
       "2019-12-17 00:00:00-05:00  320.25  319.4800  319.5495  45097303  \n",
       "2019-12-18 00:00:00-05:00  320.25  319.5300  319.5800  39434730  \n",
       "2019-12-19 00:00:00-05:00  320.98  319.5246  320.9100  61273523  \n",
       "2019-12-20 00:00:00-05:00  321.45  319.3873  320.9500  89245466  "
      ]
     },
     "execution_count": 4,
     "metadata": {},
     "output_type": "execute_result"
    }
   ],
   "source": [
    "list_of_tickers = [\"SPY\", \"AGG\"]\n",
    "\n",
    "# Set timeframe to '1D'\n",
    "timeframe = '1D'\n",
    "\n",
    "# Set start and end datetimes of 1 year, between now and 365 days ago.\n",
    "end_date = datetime.now()\n",
    "start_date = end_date + timedelta(-365)\n",
    "\n",
    "# Get 1 year's worth of historical data using alpaca api\n",
    "# try to get adjusted close price\n",
    "df = api.get_barset(\n",
    "    list_of_tickers,\n",
    "    timeframe,\n",
    "    limit=None,\n",
    "    start=start_date,\n",
    "    end=end_date,\n",
    "    after=None,\n",
    "    until=None,\n",
    ").df\n",
    "\n",
    "df.head()"
   ]
  },
  {
   "cell_type": "markdown",
   "metadata": {},
   "source": [
    "# Data Collection\n",
    "\n",
    "In this step, you will need to use the Alpaca api to fetch closing prices for the `SPY` and `AGG` tickers. Save the results as a pandas DataFrame"
   ]
  },
  {
   "cell_type": "code",
   "execution_count": 11,
   "metadata": {},
   "outputs": [
    {
     "data": {
      "text/html": [
       "<div>\n",
       "<style scoped>\n",
       "    .dataframe tbody tr th:only-of-type {\n",
       "        vertical-align: middle;\n",
       "    }\n",
       "\n",
       "    .dataframe tbody tr th {\n",
       "        vertical-align: top;\n",
       "    }\n",
       "\n",
       "    .dataframe thead tr th {\n",
       "        text-align: left;\n",
       "    }\n",
       "</style>\n",
       "<table border=\"1\" class=\"dataframe\">\n",
       "  <thead>\n",
       "    <tr>\n",
       "      <th></th>\n",
       "      <th colspan=\"5\" halign=\"left\">AGG</th>\n",
       "      <th colspan=\"5\" halign=\"left\">SPY</th>\n",
       "    </tr>\n",
       "    <tr>\n",
       "      <th></th>\n",
       "      <th>open</th>\n",
       "      <th>high</th>\n",
       "      <th>low</th>\n",
       "      <th>close</th>\n",
       "      <th>volume</th>\n",
       "      <th>open</th>\n",
       "      <th>high</th>\n",
       "      <th>low</th>\n",
       "      <th>close</th>\n",
       "      <th>volume</th>\n",
       "    </tr>\n",
       "  </thead>\n",
       "  <tbody>\n",
       "    <tr>\n",
       "      <th>2019-12-16 00:00:00-05:00</th>\n",
       "      <td>112.68</td>\n",
       "      <td>112.690</td>\n",
       "      <td>112.500</td>\n",
       "      <td>112.580</td>\n",
       "      <td>2645199</td>\n",
       "      <td>319.22</td>\n",
       "      <td>320.15</td>\n",
       "      <td>317.2542</td>\n",
       "      <td>319.5100</td>\n",
       "      <td>60263122</td>\n",
       "    </tr>\n",
       "    <tr>\n",
       "      <th>2019-12-17 00:00:00-05:00</th>\n",
       "      <td>112.69</td>\n",
       "      <td>112.700</td>\n",
       "      <td>112.520</td>\n",
       "      <td>112.595</td>\n",
       "      <td>2268253</td>\n",
       "      <td>319.92</td>\n",
       "      <td>320.25</td>\n",
       "      <td>319.4800</td>\n",
       "      <td>319.5495</td>\n",
       "      <td>45097303</td>\n",
       "    </tr>\n",
       "    <tr>\n",
       "      <th>2019-12-18 00:00:00-05:00</th>\n",
       "      <td>112.55</td>\n",
       "      <td>112.555</td>\n",
       "      <td>112.360</td>\n",
       "      <td>112.380</td>\n",
       "      <td>3556902</td>\n",
       "      <td>320.00</td>\n",
       "      <td>320.25</td>\n",
       "      <td>319.5300</td>\n",
       "      <td>319.5800</td>\n",
       "      <td>39434730</td>\n",
       "    </tr>\n",
       "    <tr>\n",
       "      <th>2019-12-19 00:00:00-05:00</th>\n",
       "      <td>112.19</td>\n",
       "      <td>112.360</td>\n",
       "      <td>112.135</td>\n",
       "      <td>112.290</td>\n",
       "      <td>3869419</td>\n",
       "      <td>319.80</td>\n",
       "      <td>320.98</td>\n",
       "      <td>319.5246</td>\n",
       "      <td>320.9100</td>\n",
       "      <td>61273523</td>\n",
       "    </tr>\n",
       "    <tr>\n",
       "      <th>2019-12-20 00:00:00-05:00</th>\n",
       "      <td>112.21</td>\n",
       "      <td>112.330</td>\n",
       "      <td>112.150</td>\n",
       "      <td>112.310</td>\n",
       "      <td>7562264</td>\n",
       "      <td>320.46</td>\n",
       "      <td>321.45</td>\n",
       "      <td>319.3873</td>\n",
       "      <td>320.9500</td>\n",
       "      <td>89245466</td>\n",
       "    </tr>\n",
       "  </tbody>\n",
       "</table>\n",
       "</div>"
      ],
      "text/plain": [
       "                              AGG                                         SPY  \\\n",
       "                             open     high      low    close   volume    open   \n",
       "2019-12-16 00:00:00-05:00  112.68  112.690  112.500  112.580  2645199  319.22   \n",
       "2019-12-17 00:00:00-05:00  112.69  112.700  112.520  112.595  2268253  319.92   \n",
       "2019-12-18 00:00:00-05:00  112.55  112.555  112.360  112.380  3556902  320.00   \n",
       "2019-12-19 00:00:00-05:00  112.19  112.360  112.135  112.290  3869419  319.80   \n",
       "2019-12-20 00:00:00-05:00  112.21  112.330  112.150  112.310  7562264  320.46   \n",
       "\n",
       "                                                                 \n",
       "                             high       low     close    volume  \n",
       "2019-12-16 00:00:00-05:00  320.15  317.2542  319.5100  60263122  \n",
       "2019-12-17 00:00:00-05:00  320.25  319.4800  319.5495  45097303  \n",
       "2019-12-18 00:00:00-05:00  320.25  319.5300  319.5800  39434730  \n",
       "2019-12-19 00:00:00-05:00  320.98  319.5246  320.9100  61273523  \n",
       "2019-12-20 00:00:00-05:00  321.45  319.3873  320.9500  89245466  "
      ]
     },
     "execution_count": 11,
     "metadata": {},
     "output_type": "execute_result"
    }
   ],
   "source": [
    "list_of_tickers = [\"SPY\", \"AGG\"]\n",
    "\n",
    "# Set timeframe to '1D'\n",
    "timeframe = '1D'\n",
    "\n",
    "# Set start and end datetimes of 1 year, between now and 365 days ago.\n",
    "end_date = datetime.now()\n",
    "start_date = end_date + timedelta(-365)\n",
    "\n",
    "# Get 1 year's worth of historical data using alpaca api\n",
    "df = api.get_barset(\n",
    "    list_of_tickers,\n",
    "    timeframe,\n",
    "    limit=None,\n",
    "    start=start_date,\n",
    "    end=end_date,\n",
    "    after=None,\n",
    "    until=None,\n",
    ").df\n",
    "\n",
    "df.head()\n",
    "#level 2 header WIP. fill all"
   ]
  },
  {
   "cell_type": "markdown",
   "metadata": {},
   "source": [
    "# Monte Carlo Simulation\n",
    "\n",
    "In this step, you will run Monte Carlo Simulations for your portfolio to model portfolio performance at different retirement ages. \n",
    "\n",
    "Complete the following steps:\n",
    "1. Calculate the daily returns for the SPY and AGG closing prices.\n",
    "2. Calculate volatility for both the SPY and AGG closing prices.\n",
    "3. Find the last day's closing price for both stocks and save those as variables.\n",
    "4. Run a Monte Carlo Simulation of at least 500 iterations and generate at least 30 years of closing prices\n",
    "\n",
    "### HINTS:\n",
    "There are 252 trading days per year, so the number of records to generate for each Monte Carlo run will be 252 days * 30 years"
   ]
  },
  {
   "cell_type": "code",
   "execution_count": 12,
   "metadata": {},
   "outputs": [
    {
     "data": {
      "text/html": [
       "<div>\n",
       "<style scoped>\n",
       "    .dataframe tbody tr th:only-of-type {\n",
       "        vertical-align: middle;\n",
       "    }\n",
       "\n",
       "    .dataframe tbody tr th {\n",
       "        vertical-align: top;\n",
       "    }\n",
       "\n",
       "    .dataframe thead th {\n",
       "        text-align: right;\n",
       "    }\n",
       "</style>\n",
       "<table border=\"1\" class=\"dataframe\">\n",
       "  <thead>\n",
       "    <tr style=\"text-align: right;\">\n",
       "      <th></th>\n",
       "      <th>AGG</th>\n",
       "      <th>SPY</th>\n",
       "    </tr>\n",
       "  </thead>\n",
       "  <tbody>\n",
       "    <tr>\n",
       "      <th>2019-12-16</th>\n",
       "      <td>NaN</td>\n",
       "      <td>NaN</td>\n",
       "    </tr>\n",
       "    <tr>\n",
       "      <th>2019-12-17</th>\n",
       "      <td>0.000133</td>\n",
       "      <td>0.000124</td>\n",
       "    </tr>\n",
       "    <tr>\n",
       "      <th>2019-12-18</th>\n",
       "      <td>-0.001909</td>\n",
       "      <td>0.000095</td>\n",
       "    </tr>\n",
       "    <tr>\n",
       "      <th>2019-12-19</th>\n",
       "      <td>-0.000801</td>\n",
       "      <td>0.004162</td>\n",
       "    </tr>\n",
       "    <tr>\n",
       "      <th>2019-12-20</th>\n",
       "      <td>0.000178</td>\n",
       "      <td>0.000125</td>\n",
       "    </tr>\n",
       "  </tbody>\n",
       "</table>\n",
       "</div>"
      ],
      "text/plain": [
       "                 AGG       SPY\n",
       "2019-12-16       NaN       NaN\n",
       "2019-12-17  0.000133  0.000124\n",
       "2019-12-18 -0.001909  0.000095\n",
       "2019-12-19 -0.000801  0.004162\n",
       "2019-12-20  0.000178  0.000125"
      ]
     },
     "execution_count": 12,
     "metadata": {},
     "output_type": "execute_result"
    }
   ],
   "source": [
    "# Calculate the daily roi for the stocks\n",
    "#Data Load\n",
    "# Drop Outer Table Level\n",
    "df = df.droplevel(axis=1, level=0)\n",
    "\n",
    "# Use the drop function to drop extra columns\n",
    "df.drop(columns=['open', 'high', 'low', 'volume'], inplace=True)\n",
    "# df = df.droplevel(axis=1, level=0)\n",
    "# Since this is daily data, we can keep only the date (remove the time) component of the data\n",
    "df.index = df.index.date\n",
    "\n",
    "columns=[\"AGG\",\"SPY\"]\n",
    "df.columns=columns\n",
    "\n",
    "historic_close=df\n",
    "# historic_close.head()\n",
    "\n",
    "df_roi=historic_close.pct_change()\n",
    "df_roi.head()\n"
   ]
  },
  {
   "cell_type": "code",
   "execution_count": 13,
   "metadata": {},
   "outputs": [
    {
     "data": {
      "text/plain": [
       "<matplotlib.axes._subplots.AxesSubplot at 0x1cf56413390>"
      ]
     },
     "execution_count": 13,
     "metadata": {},
     "output_type": "execute_result"
    },
    {
     "data": {
      "image/png": "[encoded data removed]",
      "text/plain": [
       "<Figure size 432x288 with 1 Axes>"
      ]
     },
     "metadata": {
      "needs_background": "light"
     },
     "output_type": "display_data"
    }
   ],
   "source": [
    "df_roi.plot()"
   ]
  },
  {
   "cell_type": "code",
   "execution_count": 41,
   "metadata": {},
   "outputs": [
    {
     "name": "stdout",
     "output_type": "stream",
     "text": [
      "The standard deviation for AGG is:0.008486380070068245\n",
      "The standard deviation for SPY is:0.030902726500259218\n"
     ]
    }
   ],
   "source": [
    "## Calculate volatility\n",
    "#Average historic returns\n",
    "avg_daily_return_AGG = df_roi.mean()['AGG']\n",
    "avg_daily_return_SPY = df_roi.mean()['SPY']\n",
    "std_dev_daily_return_AGG = df_roi.std()['AGG']\n",
    "std_dev_daily_return_SPY = df_roi.std()['SPY']\n",
    "\n",
    "print(f'The standard deviation for AGG is:{std_dev_daily_return_AGG}')\n",
    "print(f'The standard deviation for SPY is:{std_dev_daily_return_SPY}')"
   ]
  },
  {
   "cell_type": "code",
   "execution_count": 42,
   "metadata": {},
   "outputs": [
    {
     "name": "stdout",
     "output_type": "stream",
     "text": [
      "Last closing price for for AGG is:$116.73\n",
      "Last closing price for for SPY is:$287.70\n"
     ]
    }
   ],
   "source": [
    "# Save the last day's closing price\n",
    "agg_last_price = historic_close['AGG'][-1]\n",
    "spy_last_price = historic_close['SPY'][-1]\n",
    "print(f'Last closing price for for AGG is:{locale.currency(agg_last_price)}')\n",
    "print(f'Last closing price for for SPY is:{locale.currency(spy_last_price)}')"
   ]
  },
  {
   "cell_type": "code",
   "execution_count": 43,
   "metadata": {},
   "outputs": [],
   "source": [
    "# Setup the Monte Carlo Parameters\n",
    "#number of simulations X n # of days\n",
    "number_simulations = 500 # columns\n",
    "number_records = 252 * 30 # rows\n",
    "monte_carlo = pd.DataFrame()\n",
    "simulated_price_df = pd.DataFrame()"
   ]
  },
  {
   "cell_type": "code",
   "execution_count": 44,
   "metadata": {},
   "outputs": [
    {
     "data": {
      "text/html": [
       "<div>\n",
       "<style scoped>\n",
       "    .dataframe tbody tr th:only-of-type {\n",
       "        vertical-align: middle;\n",
       "    }\n",
       "\n",
       "    .dataframe tbody tr th {\n",
       "        vertical-align: top;\n",
       "    }\n",
       "\n",
       "    .dataframe thead th {\n",
       "        text-align: right;\n",
       "    }\n",
       "</style>\n",
       "<table border=\"1\" class=\"dataframe\">\n",
       "  <thead>\n",
       "    <tr style=\"text-align: right;\">\n",
       "      <th></th>\n",
       "      <th>Simulation0</th>\n",
       "      <th>Simulation1</th>\n",
       "      <th>Simulation2</th>\n",
       "      <th>Simulation3</th>\n",
       "      <th>Simulation4</th>\n",
       "      <th>Simulation5</th>\n",
       "      <th>Simulation6</th>\n",
       "      <th>Simulation7</th>\n",
       "      <th>Simulation8</th>\n",
       "      <th>Simulation9</th>\n",
       "      <th>...</th>\n",
       "      <th>Simulation490</th>\n",
       "      <th>Simulation491</th>\n",
       "      <th>Simulation492</th>\n",
       "      <th>Simulation493</th>\n",
       "      <th>Simulation494</th>\n",
       "      <th>Simulation495</th>\n",
       "      <th>Simulation496</th>\n",
       "      <th>Simulation497</th>\n",
       "      <th>Simulation498</th>\n",
       "      <th>Simulation499</th>\n",
       "    </tr>\n",
       "  </thead>\n",
       "  <tbody>\n",
       "    <tr>\n",
       "      <th>0</th>\n",
       "      <td>1.000000</td>\n",
       "      <td>1.000000</td>\n",
       "      <td>1.000000</td>\n",
       "      <td>1.000000</td>\n",
       "      <td>1.000000</td>\n",
       "      <td>1.000000</td>\n",
       "      <td>1.000000</td>\n",
       "      <td>1.000000</td>\n",
       "      <td>1.000000</td>\n",
       "      <td>1.000000</td>\n",
       "      <td>...</td>\n",
       "      <td>1.000000</td>\n",
       "      <td>1.000000</td>\n",
       "      <td>1.000000</td>\n",
       "      <td>1.000000</td>\n",
       "      <td>1.000000</td>\n",
       "      <td>1.000000</td>\n",
       "      <td>1.000000</td>\n",
       "      <td>1.000000</td>\n",
       "      <td>1.000000</td>\n",
       "      <td>1.000000</td>\n",
       "    </tr>\n",
       "    <tr>\n",
       "      <th>1</th>\n",
       "      <td>0.998968</td>\n",
       "      <td>0.999068</td>\n",
       "      <td>0.992195</td>\n",
       "      <td>1.018326</td>\n",
       "      <td>1.043722</td>\n",
       "      <td>0.975268</td>\n",
       "      <td>0.986367</td>\n",
       "      <td>1.049381</td>\n",
       "      <td>1.000500</td>\n",
       "      <td>0.978762</td>\n",
       "      <td>...</td>\n",
       "      <td>1.005236</td>\n",
       "      <td>0.968165</td>\n",
       "      <td>1.004289</td>\n",
       "      <td>1.007579</td>\n",
       "      <td>0.983061</td>\n",
       "      <td>1.009572</td>\n",
       "      <td>1.003427</td>\n",
       "      <td>1.023761</td>\n",
       "      <td>0.989882</td>\n",
       "      <td>0.976315</td>\n",
       "    </tr>\n",
       "    <tr>\n",
       "      <th>2</th>\n",
       "      <td>1.029221</td>\n",
       "      <td>1.012596</td>\n",
       "      <td>1.007997</td>\n",
       "      <td>0.980561</td>\n",
       "      <td>1.031627</td>\n",
       "      <td>0.971406</td>\n",
       "      <td>0.971474</td>\n",
       "      <td>1.021201</td>\n",
       "      <td>0.994980</td>\n",
       "      <td>0.966938</td>\n",
       "      <td>...</td>\n",
       "      <td>1.016921</td>\n",
       "      <td>0.972398</td>\n",
       "      <td>1.007375</td>\n",
       "      <td>1.018552</td>\n",
       "      <td>0.984068</td>\n",
       "      <td>0.961274</td>\n",
       "      <td>1.004896</td>\n",
       "      <td>1.015149</td>\n",
       "      <td>0.978977</td>\n",
       "      <td>0.989403</td>\n",
       "    </tr>\n",
       "    <tr>\n",
       "      <th>3</th>\n",
       "      <td>1.023777</td>\n",
       "      <td>1.007719</td>\n",
       "      <td>1.005794</td>\n",
       "      <td>0.983451</td>\n",
       "      <td>1.021216</td>\n",
       "      <td>0.943215</td>\n",
       "      <td>0.984158</td>\n",
       "      <td>0.994677</td>\n",
       "      <td>0.992043</td>\n",
       "      <td>0.995917</td>\n",
       "      <td>...</td>\n",
       "      <td>1.017949</td>\n",
       "      <td>0.946121</td>\n",
       "      <td>1.007656</td>\n",
       "      <td>1.033084</td>\n",
       "      <td>0.964747</td>\n",
       "      <td>0.968657</td>\n",
       "      <td>1.023785</td>\n",
       "      <td>0.987279</td>\n",
       "      <td>0.985910</td>\n",
       "      <td>1.003879</td>\n",
       "    </tr>\n",
       "    <tr>\n",
       "      <th>4</th>\n",
       "      <td>1.043675</td>\n",
       "      <td>1.014089</td>\n",
       "      <td>1.021423</td>\n",
       "      <td>0.997779</td>\n",
       "      <td>1.041874</td>\n",
       "      <td>0.952778</td>\n",
       "      <td>1.000729</td>\n",
       "      <td>0.968653</td>\n",
       "      <td>0.996378</td>\n",
       "      <td>1.011449</td>\n",
       "      <td>...</td>\n",
       "      <td>1.004691</td>\n",
       "      <td>0.957188</td>\n",
       "      <td>1.007041</td>\n",
       "      <td>1.005337</td>\n",
       "      <td>0.967950</td>\n",
       "      <td>0.963143</td>\n",
       "      <td>1.010414</td>\n",
       "      <td>0.996477</td>\n",
       "      <td>0.976484</td>\n",
       "      <td>1.004002</td>\n",
       "    </tr>\n",
       "  </tbody>\n",
       "</table>\n",
       "<p>5 rows × 500 columns</p>\n",
       "</div>"
      ],
      "text/plain": [
       "   Simulation0  Simulation1  Simulation2  Simulation3  Simulation4  \\\n",
       "0     1.000000     1.000000     1.000000     1.000000     1.000000   \n",
       "1     0.998968     0.999068     0.992195     1.018326     1.043722   \n",
       "2     1.029221     1.012596     1.007997     0.980561     1.031627   \n",
       "3     1.023777     1.007719     1.005794     0.983451     1.021216   \n",
       "4     1.043675     1.014089     1.021423     0.997779     1.041874   \n",
       "\n",
       "   Simulation5  Simulation6  Simulation7  Simulation8  Simulation9  ...  \\\n",
       "0     1.000000     1.000000     1.000000     1.000000     1.000000  ...   \n",
       "1     0.975268     0.986367     1.049381     1.000500     0.978762  ...   \n",
       "2     0.971406     0.971474     1.021201     0.994980     0.966938  ...   \n",
       "3     0.943215     0.984158     0.994677     0.992043     0.995917  ...   \n",
       "4     0.952778     1.000729     0.968653     0.996378     1.011449  ...   \n",
       "\n",
       "   Simulation490  Simulation491  Simulation492  Simulation493  Simulation494  \\\n",
       "0       1.000000       1.000000       1.000000       1.000000       1.000000   \n",
       "1       1.005236       0.968165       1.004289       1.007579       0.983061   \n",
       "2       1.016921       0.972398       1.007375       1.018552       0.984068   \n",
       "3       1.017949       0.946121       1.007656       1.033084       0.964747   \n",
       "4       1.004691       0.957188       1.007041       1.005337       0.967950   \n",
       "\n",
       "   Simulation495  Simulation496  Simulation497  Simulation498  Simulation499  \n",
       "0       1.000000       1.000000       1.000000       1.000000       1.000000  \n",
       "1       1.009572       1.003427       1.023761       0.989882       0.976315  \n",
       "2       0.961274       1.004896       1.015149       0.978977       0.989403  \n",
       "3       0.968657       1.023785       0.987279       0.985910       1.003879  \n",
       "4       0.963143       1.010414       0.996477       0.976484       1.004002  \n",
       "\n",
       "[5 rows x 500 columns]"
      ]
     },
     "execution_count": 44,
     "metadata": {},
     "output_type": "execute_result"
    }
   ],
   "source": [
    "# Run the Monte Carlo Simulation\n",
    "\n",
    "# set # of simulations with defined variables\n",
    "for n in range(number_simulations):\n",
    "\n",
    "    # Initialize the simulated prices list with the last closing price as PV.\n",
    "    simulated_agg_prices = [agg_last_price]\n",
    "    simulated_spy_prices = [spy_last_price]\n",
    "    \n",
    "    # Simulate the returns for 252 * i days variable predefined.\n",
    "    #Using normal distribution on random\n",
    "    for i in range(number_records):\n",
    "        # Calculate the simulated price using the last price within the list\n",
    "        simulated_agg_price = simulated_agg_prices[-1] * (1 + np.random.normal(avg_daily_return_AGG, std_dev_daily_return_AGG))\n",
    "        simulated_spy_price = simulated_spy_prices[-1] * (1 + np.random.normal(avg_daily_return_SPY, std_dev_daily_return_SPY))\n",
    "        \n",
    "        # Append the simulated price to the list\n",
    "        simulated_agg_prices.append(simulated_agg_price)\n",
    "        simulated_spy_prices.append(simulated_spy_price)\n",
    "        \n",
    "    # Append a simulated prices of each simulation to DataFrame\n",
    "    simulated_price_df[\"SPY prices\"] = pd.Series(simulated_spy_prices)\n",
    "    simulated_price_df[\"AGG prices\"] = pd.Series(simulated_agg_prices)\n",
    "    # Calculate the daily returns of simulated prices\n",
    "    simulated_daily_returns = simulated_price_df.pct_change()\n",
    "    \n",
    "    # Set the portfolio weights (60% SPY; 40% AGG)\n",
    "    weights = [0.60, 0.40]\n",
    "    \n",
    "     # Use the `dot` Numpy function with the weights to multiply weights with each column's simulated daily returns\n",
    "    portfolio_daily_returns = simulated_daily_returns.dot(weights)\n",
    "    \n",
    "    # Calculate the normalized, cumulative return series\n",
    "    #columns header WIP\n",
    "    monte_carlo[f\"Simulation{n}\"] = (1 + portfolio_daily_returns.fillna(0)).cumprod()\n",
    "\n",
    "# Print head of DataFrame\n",
    "monte_carlo.head()"
   ]
  },
  {
   "cell_type": "code",
   "execution_count": 45,
   "metadata": {},
   "outputs": [
    {
     "data": {
      "image/png": "[encoded data removed]",
      "text/plain": [
       "<Figure size 432x288 with 1 Axes>"
      ]
     },
     "metadata": {
      "needs_background": "light"
     },
     "output_type": "display_data"
    }
   ],
   "source": [
    "# Visualize the Simulation\n",
    "monte_carlo.plot(legend=None,);"
   ]
  },
  {
   "cell_type": "code",
   "execution_count": 64,
   "metadata": {},
   "outputs": [
    {
     "data": {
      "text/plain": [
       "0    0.125370\n",
       "1    0.195310\n",
       "2    0.232429\n",
       "3    0.706620\n",
       "4    0.122965\n",
       "Name: 7560, dtype: float64"
      ]
     },
     "execution_count": 64,
     "metadata": {},
     "output_type": "execute_result"
    }
   ],
   "source": [
    "# Select the last row for the cumulative returns (cumulative returns at 30 years)\n",
    "ending_cumulative_returns = monte_carlo.iloc[-1, :]\n",
    "ending_cumulative_returns.head()"
   ]
  },
  {
   "cell_type": "code",
   "execution_count": 65,
   "metadata": {},
   "outputs": [
    {
     "data": {
      "text/plain": [
       "0    0.624795\n",
       "1    0.074677\n",
       "2    0.561163\n",
       "3    0.261969\n",
       "4    0.677228\n",
       "Name: 5041, dtype: float64"
      ]
     },
     "execution_count": 65,
     "metadata": {},
     "output_type": "execute_result"
    }
   ],
   "source": [
    "# Select the last row for the cumulative returns (cumulative returns at 20 years)\n",
    "#20 yrs hardcoded for now\n",
    "ending_cumulative_returns = monte_carlo.iloc[-2520, :]\n",
    "ending_cumulative_returns.head()"
   ]
  },
  {
   "cell_type": "code",
   "execution_count": 66,
   "metadata": {},
   "outputs": [
    {
     "data": {
      "text/plain": [
       "0.05    0.027793\n",
       "0.95    1.784260\n",
       "Name: 5041, dtype: float64"
      ]
     },
     "execution_count": 66,
     "metadata": {},
     "output_type": "execute_result"
    }
   ],
   "source": [
    "# Display the 90% confidence interval for the ending returns\n",
    "confidence_interval = ending_cumulative_returns.quantile(q=[0.05, 0.95])\n",
    "confidence_interval"
   ]
  },
  {
   "cell_type": "code",
   "execution_count": 67,
   "metadata": {},
   "outputs": [
    {
     "data": {
      "text/plain": [
       "<matplotlib.lines.Line2D at 0x2ae338fb278>"
      ]
     },
     "execution_count": 67,
     "metadata": {},
     "output_type": "execute_result"
    },
    {
     "data": {
      "image/png": "[encoded data removed]",
      "text/plain": [
       "<Figure size 432x288 with 1 Axes>"
      ]
     },
     "metadata": {
      "needs_background": "light"
     },
     "output_type": "display_data"
    }
   ],
   "source": [
    "# Visualize the distribution of the ending returns\n",
    "plt.figure();\n",
    "ending_cumulative_returns.plot(kind='hist', density=True, bins=[0,1,2,3,4,5],title=\"90% confidence interval\")\n",
    "plt.axvline(confidence_interval.iloc[0], color='r')\n",
    "plt.axvline(confidence_interval.iloc[1], color='r')"
   ]
  },
  {
   "cell_type": "markdown",
   "metadata": {},
   "source": [
    "---"
   ]
  },
  {
   "cell_type": "markdown",
   "metadata": {},
   "source": [
    "# Retirement Analysis\n",
    "\n",
    "In this section, you will use the monte carlo model to answer the following retirement planning questions:\n",
    "\n",
    "1. What are the expected cumulative returns at 30 years for the 10th, 50th, and 90th percentiles?\n",
    "2. Given an initial investment of `$20,000`, what is the expected portfolio return in dollars at the 10th, 50th, and 90th percentiles?\n",
    "3. Given the current projected annual income from the Plaid analysis, will a 4% withdraw rate from the retirement portfolio meet or exceed that value at the 10th percentile?\n",
    "4. How would a 50% increase in the initial investment amount affect the 4% retirement withdrawal?"
   ]
  },
  {
   "cell_type": "markdown",
   "metadata": {},
   "source": [
    "### What are the expected cumulative returns at 30 years for the 10th, 50th, and 90th percentiles?"
   ]
  },
  {
   "cell_type": "code",
   "execution_count": 68,
   "metadata": {},
   "outputs": [
    {
     "name": "stdout",
     "output_type": "stream",
     "text": [
      "Expected cumulative return at yr 30 for 10th percentile is: 0.02779335190234906\n",
      "Expected cumulative return at yr 30 for 10th percentile is: 0.21580133055241146\n",
      "Expected cumulative return at yr 30 for 90th percentile is: 1.784259655077452\n"
     ]
    }
   ],
   "source": [
    "# confidence_interval = ending_cumulative_returns.quantile(q=[0.05, 0.95])\n",
    "print(f'Expected cumulative return at yr 30 for 10th percentile is: {confidence_interval.iloc[0]}')\n",
    "print(f'Expected cumulative return at yr 30 for 10th percentile is: {ending_cumulative_returns.median()}')\n",
    "print(f'Expected cumulative return at yr 30 for 90th percentile is: {confidence_interval.iloc[1]}')\n"
   ]
  },
  {
   "cell_type": "code",
   "execution_count": 96,
   "metadata": {},
   "outputs": [
    {
     "data": {
      "text/plain": [
       "1.784259655077452"
      ]
     },
     "execution_count": 96,
     "metadata": {},
     "output_type": "execute_result"
    }
   ],
   "source": [
    "confidence_interval.iloc[1]"
   ]
  },
  {
   "cell_type": "code",
   "execution_count": null,
   "metadata": {},
   "outputs": [],
   "source": [
    "ending_cumulative_returns.median()"
   ]
  },
  {
   "cell_type": "markdown",
   "metadata": {},
   "source": [
    "### Given an initial investment of `$20,000`, what is the expected portfolio return in dollars at the 10th, 50th, and 90th percentiles?"
   ]
  },
  {
   "cell_type": "code",
   "execution_count": 110,
   "metadata": {},
   "outputs": [
    {
     "name": "stdout",
     "output_type": "stream",
     "text": [
      "$555.87\n",
      "$35,129.33\n",
      "$35,685.19\n",
      "There is a 90% chance that an initial investment of $20,000 in this portfolio over the next 30 trading years will end within in the range of $555.87 for the 10th percentile, $35,129.33 for the 50th percentile, and $35,685.19 for the 90th percentile\n"
     ]
    }
   ],
   "source": [
    "initial_investment = 20000\n",
    "\n",
    "# Calculate cumulative profit/loss of lower and upper bound\n",
    "#weights are hardcoaded for now\n",
    "cumulative_pnl_lower_bound = initial_investment *     ((confidence_interval.iloc[0] - 1)/1) #(.4*agg_last_price+.6*spy_last_price)) / (.4*agg_last_price+.6*spy_last_price))\n",
    "cumulative_pnl_mid_bound = initial_investment *     (((confidence_interval.iloc[1] -confidence_interval.iloc[0]) - 1)/1) #(.4*agg_last_price+.6*spy_last_price)) / (.4*agg_last_price+.6*spy_last_price))\n",
    "cumulative_pnl_upper_bound = initial_investment *     ((confidence_interval.iloc[1] - 1)/1) #(.4*agg_last_price+.6*spy_last_price)) / (.4*agg_last_price+.6*spy_last_price))\n",
    "\n",
    "# Add the initial investment to the cumulative profit/loss of lower and upper bound\n",
    "ending_investment_lower_bound = initial_investment + cumulative_pnl_lower_bound\n",
    "ending_investment_mid_bound = initial_investment + cumulative_pnl_mid_bound\n",
    "ending_investment_upper_bound = initial_investment + cumulative_pnl_upper_bound\n",
    "print(locale.currency(ending_investment_lower_bound,grouping=True))\n",
    "print(locale.currency(ending_investment_mid_bound,grouping=True))\n",
    "print(locale.currency(ending_investment_upper_bound,grouping=True))\n",
    "# Print the results\n",
    "print(f\"There is a 90% chance that an initial investment of $20,000 in this portfolio\"\n",
    "      f\" over the next 30 trading years will end within in the range of\"\n",
    "      f\" {locale.currency(ending_investment_lower_bound,grouping=True)} for the 10th percentile, {locale.currency(ending_investment_mid_bound,grouping=True)} for the 50th percentile, and {locale.currency(ending_investment_upper_bound,grouping=True)} for the 90th percentile\")"
   ]
  },
  {
   "cell_type": "markdown",
   "metadata": {},
   "source": [
    "### Given the current projected annual income from the Plaid analysis, will a 4% withdraw rate from the retirement portfolio meet or exceed that value at the 10th percentile?\n",
    "\n",
    "Note: This is effectively saying that 90% of the expected returns will be greater than the return at the 10th percentile, so this can help measure the uncertainty about having enough funds at retirement"
   ]
  },
  {
   "cell_type": "code",
   "execution_count": 103,
   "metadata": {},
   "outputs": [
    {
     "data": {
      "text/plain": [
       "35.49989544522024"
      ]
     },
     "execution_count": 103,
     "metadata": {},
     "output_type": "execute_result"
    }
   ],
   "source": [
    "#projected annual income before taxes =$7,389?\n",
    ".04 * (initial_investment * ending_cumulative_returns.quantile(.1))\n"
   ]
  },
  {
   "cell_type": "markdown",
   "metadata": {},
   "source": [
    "### How would a 50% increase in the initial investment amount affect the 4% retirement withdrawal?"
   ]
  },
  {
   "cell_type": "code",
   "execution_count": null,
   "metadata": {},
   "outputs": [],
   "source": [
    "# YOUR CODE HERE"
   ]
  },
  {
   "cell_type": "markdown",
   "metadata": {},
   "source": [
    "### Optional Challenge\n",
    "\n",
    "In this section, you will calculate and plot the cumulative returns for the median and 90% confidence intervals. This plot shows the expected cumulative returns for any given day between the first day and the last day of investment. "
   ]
  },
  {
   "cell_type": "code",
   "execution_count": null,
   "metadata": {},
   "outputs": [],
   "source": [
    "# YOUR CODE HERE"
   ]
  }
 ],
 "metadata": {
  "kernel_info": {
   "name": "dev"
  },
  "kernelspec": {
   "display_name": "Python 3",
   "language": "python",
   "name": "python3"
  },
  "language_info": {
   "codemirror_mode": {
    "name": "ipython",
    "version": 3
   },
   "file_extension": ".py",
   "mimetype": "text/x-python",
   "name": "python",
   "nbconvert_exporter": "python",
   "pygments_lexer": "ipython3",
   "version": "3.7.1"
  },
  "nteract": {
   "version": "0.12.3"
  }
 },
 "nbformat": 4,
 "nbformat_minor": 4
}
