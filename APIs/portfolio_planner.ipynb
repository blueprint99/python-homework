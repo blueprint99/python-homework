{
 "cells": [
  {
   "cell_type": "code",
   "execution_count": 104,
   "metadata": {},
   "outputs": [
    {
     "data": {
      "text/plain": [
       "'en_CA.UTF-8'"
      ]
     },
     "execution_count": 104,
     "metadata": {},
     "output_type": "execute_result"
    }
   ],
   "source": [
    "# Import libraries and dependencies\n",
    "import numpy as np\n",
    "import pandas as pd\n",
    "import os\n",
    "from datetime import datetime, timedelta\n",
    "import matplotlib.pyplot as plt\n",
    "import alpaca_trade_api as tradeapi\n",
    "%matplotlib inline\n",
    "import locale\n",
    "locale.setlocale( locale.LC_ALL, 'en_CA.UTF-8' )"
   ]
  },
  {
   "cell_type": "code",
   "execution_count": 27,
   "metadata": {},
   "outputs": [],
   "source": [
    "np.random.seed(42)"
   ]
  },
  {
   "cell_type": "markdown",
   "metadata": {},
   "source": [
    "# Portfolio Planner\n",
    "\n",
    "In this activity, you will use the Alpaca api to grab historical data for a 60/40 portfolio using `SPY` to represent the stock portion and `AGG` to represent the bonds."
   ]
  },
  {
   "cell_type": "code",
   "execution_count": 28,
   "metadata": {},
   "outputs": [],
   "source": [
    "# Load .env enviroment variables\n",
    "from dotenv import load_dotenv\n",
    "load_dotenv()\n",
    "\n",
    "# Set Alpaca API key and secret\n",
    "alpaca_api_key = os.getenv(\"ALPACA_API_KEY\")\n",
    "alpaca_secret_key = os.getenv(\"ALPACA_SECRET_KEY\")\n",
    "\n",
    "# api = tradeapi.REST()\n",
    "api = tradeapi.REST(alpaca_api_key, alpaca_secret_key, api_version='v2')"
   ]
  },
  {
   "cell_type": "code",
   "execution_count": null,
   "metadata": {},
   "outputs": [],
   "source": [
    "list_of_tickers = [\"SPY\", \"AGG\"]\n",
    "\n",
    "# Set timeframe to '1D'\n",
    "timeframe = '1D'\n",
    "\n",
    "# Set start and end datetimes of 1 year, between now and 365 days ago.\n",
    "end_date = datetime.now()\n",
    "start_date = end_date + timedelta(-365)\n",
    "\n",
    "# Get 1 year's worth of historical data using alpaca api\n",
    "df = api.get_barset(\n",
    "    list_of_tickers,\n",
    "    timeframe,\n",
    "    limit=None,\n",
    "    start=start_date,\n",
    "    end=end_date,\n",
    "    after=None,\n",
    "    until=None,\n",
    ").df\n",
    "\n",
    "df.head()"
   ]
  },
  {
   "cell_type": "markdown",
   "metadata": {},
   "source": [
    "# Data Collection\n",
    "\n",
    "In this step, you will need to use the Alpaca api to fetch closing prices for the `SPY` and `AGG` tickers. Save the results as a pandas DataFrame"
   ]
  },
  {
   "cell_type": "code",
   "execution_count": 91,
   "metadata": {},
   "outputs": [
    {
     "data": {
      "text/html": [
       "<div>\n",
       "<style scoped>\n",
       "    .dataframe tbody tr th:only-of-type {\n",
       "        vertical-align: middle;\n",
       "    }\n",
       "\n",
       "    .dataframe tbody tr th {\n",
       "        vertical-align: top;\n",
       "    }\n",
       "\n",
       "    .dataframe thead tr th {\n",
       "        text-align: left;\n",
       "    }\n",
       "</style>\n",
       "<table border=\"1\" class=\"dataframe\">\n",
       "  <thead>\n",
       "    <tr>\n",
       "      <th></th>\n",
       "      <th colspan=\"5\" halign=\"left\">AGG</th>\n",
       "      <th colspan=\"5\" halign=\"left\">SPY</th>\n",
       "    </tr>\n",
       "    <tr>\n",
       "      <th></th>\n",
       "      <th>open</th>\n",
       "      <th>high</th>\n",
       "      <th>low</th>\n",
       "      <th>close</th>\n",
       "      <th>volume</th>\n",
       "      <th>open</th>\n",
       "      <th>high</th>\n",
       "      <th>low</th>\n",
       "      <th>close</th>\n",
       "      <th>volume</th>\n",
       "    </tr>\n",
       "  </thead>\n",
       "  <tbody>\n",
       "    <tr>\n",
       "      <th>2019-12-02 00:00:00-05:00</th>\n",
       "      <td>112.31</td>\n",
       "      <td>112.5100</td>\n",
       "      <td>112.29</td>\n",
       "      <td>112.48</td>\n",
       "      <td>5720136</td>\n",
       "      <td>314.327</td>\n",
       "      <td>314.37</td>\n",
       "      <td>311.17</td>\n",
       "      <td>311.60</td>\n",
       "      <td>61594879</td>\n",
       "    </tr>\n",
       "    <tr>\n",
       "      <th>2019-12-03 00:00:00-05:00</th>\n",
       "      <td>112.80</td>\n",
       "      <td>113.1277</td>\n",
       "      <td>112.76</td>\n",
       "      <td>113.02</td>\n",
       "      <td>3547417</td>\n",
       "      <td>308.650</td>\n",
       "      <td>309.64</td>\n",
       "      <td>307.13</td>\n",
       "      <td>309.47</td>\n",
       "      <td>62363983</td>\n",
       "    </tr>\n",
       "    <tr>\n",
       "      <th>2019-12-04 00:00:00-05:00</th>\n",
       "      <td>112.87</td>\n",
       "      <td>112.9500</td>\n",
       "      <td>112.68</td>\n",
       "      <td>112.80</td>\n",
       "      <td>3547118</td>\n",
       "      <td>310.700</td>\n",
       "      <td>312.12</td>\n",
       "      <td>310.32</td>\n",
       "      <td>311.47</td>\n",
       "      <td>37810887</td>\n",
       "    </tr>\n",
       "    <tr>\n",
       "      <th>2019-12-05 00:00:00-05:00</th>\n",
       "      <td>112.58</td>\n",
       "      <td>112.7400</td>\n",
       "      <td>112.53</td>\n",
       "      <td>112.69</td>\n",
       "      <td>3052489</td>\n",
       "      <td>312.230</td>\n",
       "      <td>312.25</td>\n",
       "      <td>310.58</td>\n",
       "      <td>312.05</td>\n",
       "      <td>34436972</td>\n",
       "    </tr>\n",
       "    <tr>\n",
       "      <th>2019-12-06 00:00:00-05:00</th>\n",
       "      <td>112.47</td>\n",
       "      <td>112.6800</td>\n",
       "      <td>112.41</td>\n",
       "      <td>112.54</td>\n",
       "      <td>4065089</td>\n",
       "      <td>314.120</td>\n",
       "      <td>315.31</td>\n",
       "      <td>314.11</td>\n",
       "      <td>314.84</td>\n",
       "      <td>37930796</td>\n",
       "    </tr>\n",
       "  </tbody>\n",
       "</table>\n",
       "</div>"
      ],
      "text/plain": [
       "                              AGG                                         SPY  \\\n",
       "                             open      high     low   close   volume     open   \n",
       "2019-12-02 00:00:00-05:00  112.31  112.5100  112.29  112.48  5720136  314.327   \n",
       "2019-12-03 00:00:00-05:00  112.80  113.1277  112.76  113.02  3547417  308.650   \n",
       "2019-12-04 00:00:00-05:00  112.87  112.9500  112.68  112.80  3547118  310.700   \n",
       "2019-12-05 00:00:00-05:00  112.58  112.7400  112.53  112.69  3052489  312.230   \n",
       "2019-12-06 00:00:00-05:00  112.47  112.6800  112.41  112.54  4065089  314.120   \n",
       "\n",
       "                                                             \n",
       "                             high     low   close    volume  \n",
       "2019-12-02 00:00:00-05:00  314.37  311.17  311.60  61594879  \n",
       "2019-12-03 00:00:00-05:00  309.64  307.13  309.47  62363983  \n",
       "2019-12-04 00:00:00-05:00  312.12  310.32  311.47  37810887  \n",
       "2019-12-05 00:00:00-05:00  312.25  310.58  312.05  34436972  \n",
       "2019-12-06 00:00:00-05:00  315.31  314.11  314.84  37930796  "
      ]
     },
     "execution_count": 91,
     "metadata": {},
     "output_type": "execute_result"
    }
   ],
   "source": [
    "list_of_tickers = [\"SPY\", \"AGG\"]\n",
    "\n",
    "# Set timeframe to '1D'\n",
    "timeframe = '1D'\n",
    "\n",
    "# Set start and end datetimes of 1 year, between now and 365 days ago.\n",
    "end_date = datetime.now()\n",
    "start_date = end_date + timedelta(-365)\n",
    "\n",
    "# Get 1 year's worth of historical data using alpaca api\n",
    "df = api.get_barset(\n",
    "    list_of_tickers,\n",
    "    timeframe,\n",
    "    limit=None,\n",
    "    start=start_date,\n",
    "    end=end_date,\n",
    "    after=None,\n",
    "    until=None,\n",
    ").df\n",
    "\n",
    "df.head()\n",
    "#level 2 header WIP. fill all"
   ]
  },
  {
   "cell_type": "markdown",
   "metadata": {},
   "source": [
    "# Monte Carlo Simulation\n",
    "\n",
    "In this step, you will run Monte Carlo Simulations for your portfolio to model portfolio performance at different retirement ages. \n",
    "\n",
    "Complete the following steps:\n",
    "1. Calculate the daily returns for the SPY and AGG closing prices.\n",
    "2. Calculate volatility for both the SPY and AGG closing prices.\n",
    "3. Find the last day's closing price for both stocks and save those as variables.\n",
    "4. Run a Monte Carlo Simulation of at least 500 iterations and generate at least 30 years of closing prices\n",
    "\n",
    "### HINTS:\n",
    "There are 252 trading days per year, so the number of records to generate for each Monte Carlo run will be 252 days * 30 years"
   ]
  },
  {
   "cell_type": "code",
   "execution_count": 92,
   "metadata": {},
   "outputs": [
    {
     "data": {
      "text/html": [
       "<div>\n",
       "<style scoped>\n",
       "    .dataframe tbody tr th:only-of-type {\n",
       "        vertical-align: middle;\n",
       "    }\n",
       "\n",
       "    .dataframe tbody tr th {\n",
       "        vertical-align: top;\n",
       "    }\n",
       "\n",
       "    .dataframe thead th {\n",
       "        text-align: right;\n",
       "    }\n",
       "</style>\n",
       "<table border=\"1\" class=\"dataframe\">\n",
       "  <thead>\n",
       "    <tr style=\"text-align: right;\">\n",
       "      <th></th>\n",
       "      <th>AGG</th>\n",
       "      <th>SPY</th>\n",
       "    </tr>\n",
       "  </thead>\n",
       "  <tbody>\n",
       "    <tr>\n",
       "      <th>2019-12-02</th>\n",
       "      <td>NaN</td>\n",
       "      <td>NaN</td>\n",
       "    </tr>\n",
       "    <tr>\n",
       "      <th>2019-12-03</th>\n",
       "      <td>0.004801</td>\n",
       "      <td>-0.006836</td>\n",
       "    </tr>\n",
       "    <tr>\n",
       "      <th>2019-12-04</th>\n",
       "      <td>-0.001947</td>\n",
       "      <td>0.006463</td>\n",
       "    </tr>\n",
       "    <tr>\n",
       "      <th>2019-12-05</th>\n",
       "      <td>-0.000975</td>\n",
       "      <td>0.001862</td>\n",
       "    </tr>\n",
       "    <tr>\n",
       "      <th>2019-12-06</th>\n",
       "      <td>-0.001331</td>\n",
       "      <td>0.008941</td>\n",
       "    </tr>\n",
       "  </tbody>\n",
       "</table>\n",
       "</div>"
      ],
      "text/plain": [
       "                 AGG       SPY\n",
       "2019-12-02       NaN       NaN\n",
       "2019-12-03  0.004801 -0.006836\n",
       "2019-12-04 -0.001947  0.006463\n",
       "2019-12-05 -0.000975  0.001862\n",
       "2019-12-06 -0.001331  0.008941"
      ]
     },
     "execution_count": 92,
     "metadata": {},
     "output_type": "execute_result"
    }
   ],
   "source": [
    "# Calculate the daily roi for the stocks\n",
    "#Data Load\n",
    "# Drop Outer Table Level\n",
    "df = df.droplevel(axis=1, level=0)\n",
    "\n",
    "# Use the drop function to drop extra columns\n",
    "df.drop(columns=['open', 'high', 'low', 'volume'], inplace=True)\n",
    "\n",
    "# Since this is daily data, we can keep only the date (remove the time) component of the data\n",
    "df.index = df.index.date\n",
    "\n",
    "columns=[\"AGG\",\"SPY\"]\n",
    "df.columns=columns\n",
    "\n",
    "historic_close=df\n",
    "# historic_close.head()\n",
    "\n",
    "df_roi=historic_close.pct_change()\n",
    "df_roi.head()\n"
   ]
  },
  {
   "cell_type": "code",
   "execution_count": null,
   "metadata": {},
   "outputs": [],
   "source": [
    "## Calculate volatility\n",
    "#Average historic returns\n",
    "avg_daily_return_AGG = df_roi.mean()['AGG']\n",
    "avg_daily_return_SPY = df_roi.mean()['SPY'\n",
    "std_dev_daily_return_AGG = df_roi.std()['AGG']\n",
    "std_dev_daily_return_SPY = df_roi.std()['SPY']\n",
    "\n",
    "print(f'The standard deviation for AGG is:{std_dev_daily_return_AGG}')\n",
    "print(f'The standard deviation for SPY is:{std_dev_daily_return_SPY}')"
   ]
  },
  {
   "cell_type": "code",
   "execution_count": 44,
   "metadata": {},
   "outputs": [
    {
     "name": "stdout",
     "output_type": "stream",
     "text": [
      "Last closing price for for AGG is:$117.35\n",
      "Last closing price for for SPY is:$283.04\n"
     ]
    }
   ],
   "source": [
    "# Save the last day's closing price\n",
    "agg_last_price = historic_close['AGG'][-1]\n",
    "spy_last_price = historic_close['SPY'][-1]\n",
    "print(f'Last closing price for for AGG is:{locale.currency(agg_last_price)}')\n",
    "print(f'Last closing price for for SPY is:{locale.currency(spy_last_price)}')"
   ]
  },
  {
   "cell_type": "code",
   "execution_count": 8,
   "metadata": {},
   "outputs": [],
   "source": [
    "# Setup the Monte Carlo Parameters\n",
    "#number of simulations X n # of days\n",
    "number_simulations = 500 # columns\n",
    "number_records = 252 * 30 # rows\n",
    "monte_carlo = pd.DataFrame()\n",
    "simulated_price_df = pd.DataFrame()"
   ]
  },
  {
   "cell_type": "code",
   "execution_count": 51,
   "metadata": {},
   "outputs": [
    {
     "data": {
      "text/html": [
       "<div>\n",
       "<style scoped>\n",
       "    .dataframe tbody tr th:only-of-type {\n",
       "        vertical-align: middle;\n",
       "    }\n",
       "\n",
       "    .dataframe tbody tr th {\n",
       "        vertical-align: top;\n",
       "    }\n",
       "\n",
       "    .dataframe thead th {\n",
       "        text-align: right;\n",
       "    }\n",
       "</style>\n",
       "<table border=\"1\" class=\"dataframe\">\n",
       "  <thead>\n",
       "    <tr style=\"text-align: right;\">\n",
       "      <th></th>\n",
       "      <th>0</th>\n",
       "      <th>1</th>\n",
       "      <th>2</th>\n",
       "      <th>3</th>\n",
       "      <th>4</th>\n",
       "      <th>5</th>\n",
       "      <th>6</th>\n",
       "      <th>7</th>\n",
       "      <th>8</th>\n",
       "      <th>9</th>\n",
       "      <th>...</th>\n",
       "      <th>Simulation490</th>\n",
       "      <th>Simulation491</th>\n",
       "      <th>Simulation492</th>\n",
       "      <th>Simulation493</th>\n",
       "      <th>Simulation494</th>\n",
       "      <th>Simulation495</th>\n",
       "      <th>Simulation496</th>\n",
       "      <th>Simulation497</th>\n",
       "      <th>Simulation498</th>\n",
       "      <th>Simulation499</th>\n",
       "    </tr>\n",
       "  </thead>\n",
       "  <tbody>\n",
       "    <tr>\n",
       "      <th>0</th>\n",
       "      <td>1.000000</td>\n",
       "      <td>1.000000</td>\n",
       "      <td>1.000000</td>\n",
       "      <td>1.000000</td>\n",
       "      <td>1.000000</td>\n",
       "      <td>1.000000</td>\n",
       "      <td>1.000000</td>\n",
       "      <td>1.000000</td>\n",
       "      <td>1.000000</td>\n",
       "      <td>1.000000</td>\n",
       "      <td>...</td>\n",
       "      <td>1.000000</td>\n",
       "      <td>1.000000</td>\n",
       "      <td>1.000000</td>\n",
       "      <td>1.000000</td>\n",
       "      <td>1.000000</td>\n",
       "      <td>1.000000</td>\n",
       "      <td>1.000000</td>\n",
       "      <td>1.000000</td>\n",
       "      <td>1.000000</td>\n",
       "      <td>1.000000</td>\n",
       "    </tr>\n",
       "    <tr>\n",
       "      <th>1</th>\n",
       "      <td>1.009323</td>\n",
       "      <td>0.989636</td>\n",
       "      <td>0.996544</td>\n",
       "      <td>0.993280</td>\n",
       "      <td>0.988451</td>\n",
       "      <td>0.998277</td>\n",
       "      <td>1.024661</td>\n",
       "      <td>1.021434</td>\n",
       "      <td>1.021707</td>\n",
       "      <td>0.966355</td>\n",
       "      <td>...</td>\n",
       "      <td>1.012704</td>\n",
       "      <td>1.006519</td>\n",
       "      <td>0.980368</td>\n",
       "      <td>0.980765</td>\n",
       "      <td>0.998250</td>\n",
       "      <td>1.019629</td>\n",
       "      <td>1.011165</td>\n",
       "      <td>0.965472</td>\n",
       "      <td>1.018417</td>\n",
       "      <td>1.001171</td>\n",
       "    </tr>\n",
       "    <tr>\n",
       "      <th>2</th>\n",
       "      <td>0.993393</td>\n",
       "      <td>0.992388</td>\n",
       "      <td>0.980384</td>\n",
       "      <td>0.996942</td>\n",
       "      <td>0.973674</td>\n",
       "      <td>0.985105</td>\n",
       "      <td>1.029421</td>\n",
       "      <td>0.992301</td>\n",
       "      <td>1.031124</td>\n",
       "      <td>0.998072</td>\n",
       "      <td>...</td>\n",
       "      <td>1.012933</td>\n",
       "      <td>0.958042</td>\n",
       "      <td>0.978483</td>\n",
       "      <td>1.001645</td>\n",
       "      <td>0.984047</td>\n",
       "      <td>1.015090</td>\n",
       "      <td>1.009962</td>\n",
       "      <td>0.978635</td>\n",
       "      <td>1.031749</td>\n",
       "      <td>1.003215</td>\n",
       "    </tr>\n",
       "    <tr>\n",
       "      <th>3</th>\n",
       "      <td>0.992710</td>\n",
       "      <td>0.979563</td>\n",
       "      <td>0.965247</td>\n",
       "      <td>0.982050</td>\n",
       "      <td>0.997714</td>\n",
       "      <td>0.994186</td>\n",
       "      <td>1.016235</td>\n",
       "      <td>0.969472</td>\n",
       "      <td>1.042837</td>\n",
       "      <td>0.974621</td>\n",
       "      <td>...</td>\n",
       "      <td>0.989734</td>\n",
       "      <td>0.965360</td>\n",
       "      <td>0.960716</td>\n",
       "      <td>0.985838</td>\n",
       "      <td>0.988709</td>\n",
       "      <td>1.042009</td>\n",
       "      <td>1.050343</td>\n",
       "      <td>1.003947</td>\n",
       "      <td>1.062867</td>\n",
       "      <td>0.968156</td>\n",
       "    </tr>\n",
       "    <tr>\n",
       "      <th>4</th>\n",
       "      <td>0.982914</td>\n",
       "      <td>1.009624</td>\n",
       "      <td>0.953762</td>\n",
       "      <td>1.006538</td>\n",
       "      <td>1.004439</td>\n",
       "      <td>0.990351</td>\n",
       "      <td>1.029242</td>\n",
       "      <td>0.959436</td>\n",
       "      <td>1.039818</td>\n",
       "      <td>0.961401</td>\n",
       "      <td>...</td>\n",
       "      <td>1.000671</td>\n",
       "      <td>0.972056</td>\n",
       "      <td>0.933209</td>\n",
       "      <td>0.995765</td>\n",
       "      <td>0.963105</td>\n",
       "      <td>1.026869</td>\n",
       "      <td>1.027959</td>\n",
       "      <td>0.980899</td>\n",
       "      <td>1.041198</td>\n",
       "      <td>0.999970</td>\n",
       "    </tr>\n",
       "  </tbody>\n",
       "</table>\n",
       "<p>5 rows × 1000 columns</p>\n",
       "</div>"
      ],
      "text/plain": [
       "          0         1         2         3         4         5         6  \\\n",
       "0  1.000000  1.000000  1.000000  1.000000  1.000000  1.000000  1.000000   \n",
       "1  1.009323  0.989636  0.996544  0.993280  0.988451  0.998277  1.024661   \n",
       "2  0.993393  0.992388  0.980384  0.996942  0.973674  0.985105  1.029421   \n",
       "3  0.992710  0.979563  0.965247  0.982050  0.997714  0.994186  1.016235   \n",
       "4  0.982914  1.009624  0.953762  1.006538  1.004439  0.990351  1.029242   \n",
       "\n",
       "          7         8         9  ...  Simulation490  Simulation491  \\\n",
       "0  1.000000  1.000000  1.000000  ...       1.000000       1.000000   \n",
       "1  1.021434  1.021707  0.966355  ...       1.012704       1.006519   \n",
       "2  0.992301  1.031124  0.998072  ...       1.012933       0.958042   \n",
       "3  0.969472  1.042837  0.974621  ...       0.989734       0.965360   \n",
       "4  0.959436  1.039818  0.961401  ...       1.000671       0.972056   \n",
       "\n",
       "   Simulation492  Simulation493  Simulation494  Simulation495  Simulation496  \\\n",
       "0       1.000000       1.000000       1.000000       1.000000       1.000000   \n",
       "1       0.980368       0.980765       0.998250       1.019629       1.011165   \n",
       "2       0.978483       1.001645       0.984047       1.015090       1.009962   \n",
       "3       0.960716       0.985838       0.988709       1.042009       1.050343   \n",
       "4       0.933209       0.995765       0.963105       1.026869       1.027959   \n",
       "\n",
       "   Simulation497  Simulation498  Simulation499  \n",
       "0       1.000000       1.000000       1.000000  \n",
       "1       0.965472       1.018417       1.001171  \n",
       "2       0.978635       1.031749       1.003215  \n",
       "3       1.003947       1.062867       0.968156  \n",
       "4       0.980899       1.041198       0.999970  \n",
       "\n",
       "[5 rows x 1000 columns]"
      ]
     },
     "execution_count": 51,
     "metadata": {},
     "output_type": "execute_result"
    }
   ],
   "source": [
    "# Run the Monte Carlo Simulation\n",
    "\n",
    "# set # of simulations with defined variables\n",
    "for n in range(number_simulations):\n",
    "\n",
    "    # Initialize the simulated prices list with the last closing price as PV.\n",
    "    simulated_agg_prices = [agg_last_price]\n",
    "    simulated_spy_prices = [spy_last_price]\n",
    "    \n",
    "    # Simulate the returns for 252 * i days variable predefined.\n",
    "    #Using normal distribution on random\n",
    "    for i in range(number_records):\n",
    "        # Calculate the simulated price using the last price within the list\n",
    "        simulated_agg_price = simulated_agg_prices[-1] * (1 + np.random.normal(avg_daily_return_AGG, std_dev_daily_return_AGG))\n",
    "        simulated_spy_price = simulated_spy_prices[-1] * (1 + np.random.normal(avg_daily_return_SPY, std_dev_daily_return_SPY))\n",
    "        \n",
    "        # Append the simulated price to the list\n",
    "        simulated_agg_prices.append(simulated_agg_price)\n",
    "        simulated_spy_prices.append(simulated_spy_price)\n",
    "        \n",
    "    # Append a simulated prices of each simulation to DataFrame\n",
    "    simulated_price_df[\"SPY prices\"] = pd.Series(simulated_spy_prices)\n",
    "    simulated_price_df[\"AGG prices\"] = pd.Series(simulated_agg_prices)\n",
    "    # Calculate the daily returns of simulated prices\n",
    "    simulated_daily_returns = simulated_price_df.pct_change()\n",
    "    \n",
    "    # Set the portfolio weights (60% SPY; 40% AGG)\n",
    "    weights = [0.60, 0.40]\n",
    "    \n",
    "     # Use the `dot` Numpy function with the weights to multiply weights with each column's simulated daily returns\n",
    "    portfolio_daily_returns = simulated_daily_returns.dot(weights)\n",
    "    \n",
    "    # Calculate the normalized, cumulative return series\n",
    "    #columns header WIP\n",
    "    monte_carlo[f\"Simulation{n}\"] = (1 + portfolio_daily_returns.fillna(0)).cumprod()\n",
    "\n",
    "# Print head of DataFrame\n",
    "monte_carlo.head()"
   ]
  },
  {
   "cell_type": "code",
   "execution_count": 63,
   "metadata": {},
   "outputs": [
    {
     "data": {
      "image/png": "[encoded data removed]",
      "text/plain": [
       "<Figure size 432x288 with 1 Axes>"
      ]
     },
     "metadata": {
      "needs_background": "light"
     },
     "output_type": "display_data"
    }
   ],
   "source": [
    "# Visualize the Simulation\n",
    "monte_carlo.plot(legend=None,);"
   ]
  },
  {
   "cell_type": "code",
   "execution_count": 64,
   "metadata": {},
   "outputs": [
    {
     "data": {
      "text/plain": [
       "0    0.125370\n",
       "1    0.195310\n",
       "2    0.232429\n",
       "3    0.706620\n",
       "4    0.122965\n",
       "Name: 7560, dtype: float64"
      ]
     },
     "execution_count": 64,
     "metadata": {},
     "output_type": "execute_result"
    }
   ],
   "source": [
    "# Select the last row for the cumulative returns (cumulative returns at 30 years)\n",
    "ending_cumulative_returns = monte_carlo.iloc[-1, :]\n",
    "ending_cumulative_returns.head()"
   ]
  },
  {
   "cell_type": "code",
   "execution_count": 65,
   "metadata": {},
   "outputs": [
    {
     "data": {
      "text/plain": [
       "0    0.624795\n",
       "1    0.074677\n",
       "2    0.561163\n",
       "3    0.261969\n",
       "4    0.677228\n",
       "Name: 5041, dtype: float64"
      ]
     },
     "execution_count": 65,
     "metadata": {},
     "output_type": "execute_result"
    }
   ],
   "source": [
    "# Select the last row for the cumulative returns (cumulative returns at 20 years)\n",
    "#20 yrs hardcoded for now\n",
    "ending_cumulative_returns = monte_carlo.iloc[-2520, :]\n",
    "ending_cumulative_returns.head()"
   ]
  },
  {
   "cell_type": "code",
   "execution_count": 66,
   "metadata": {},
   "outputs": [
    {
     "data": {
      "text/plain": [
       "0.05    0.027793\n",
       "0.95    1.784260\n",
       "Name: 5041, dtype: float64"
      ]
     },
     "execution_count": 66,
     "metadata": {},
     "output_type": "execute_result"
    }
   ],
   "source": [
    "# Display the 90% confidence interval for the ending returns\n",
    "confidence_interval = ending_cumulative_returns.quantile(q=[0.05, 0.95])\n",
    "confidence_interval"
   ]
  },
  {
   "cell_type": "code",
   "execution_count": 67,
   "metadata": {},
   "outputs": [
    {
     "data": {
      "text/plain": [
       "<matplotlib.lines.Line2D at 0x2ae338fb278>"
      ]
     },
     "execution_count": 67,
     "metadata": {},
     "output_type": "execute_result"
    },
    {
     "data": {
      "image/png": "[encoded data removed]",
      "text/plain": [
       "<Figure size 432x288 with 1 Axes>"
      ]
     },
     "metadata": {
      "needs_background": "light"
     },
     "output_type": "display_data"
    }
   ],
   "source": [
    "# Visualize the distribution of the ending returns\n",
    "plt.figure();\n",
    "ending_cumulative_returns.plot(kind='hist', density=True, bins=[0,1,2,3,4,5],title=\"90% confidence interval\")\n",
    "plt.axvline(confidence_interval.iloc[0], color='r')\n",
    "plt.axvline(confidence_interval.iloc[1], color='r')"
   ]
  },
  {
   "cell_type": "markdown",
   "metadata": {},
   "source": [
    "---"
   ]
  },
  {
   "cell_type": "markdown",
   "metadata": {},
   "source": [
    "# Retirement Analysis\n",
    "\n",
    "In this section, you will use the monte carlo model to answer the following retirement planning questions:\n",
    "\n",
    "1. What are the expected cumulative returns at 30 years for the 10th, 50th, and 90th percentiles?\n",
    "2. Given an initial investment of `$20,000`, what is the expected portfolio return in dollars at the 10th, 50th, and 90th percentiles?\n",
    "3. Given the current projected annual income from the Plaid analysis, will a 4% withdraw rate from the retirement portfolio meet or exceed that value at the 10th percentile?\n",
    "4. How would a 50% increase in the initial investment amount affect the 4% retirement withdrawal?"
   ]
  },
  {
   "cell_type": "markdown",
   "metadata": {},
   "source": [
    "### What are the expected cumulative returns at 30 years for the 10th, 50th, and 90th percentiles?"
   ]
  },
  {
   "cell_type": "code",
   "execution_count": 68,
   "metadata": {},
   "outputs": [
    {
     "name": "stdout",
     "output_type": "stream",
     "text": [
      "Expected cumulative return at yr 30 for 10th percentile is: 0.02779335190234906\n",
      "Expected cumulative return at yr 30 for 10th percentile is: 0.21580133055241146\n",
      "Expected cumulative return at yr 30 for 90th percentile is: 1.784259655077452\n"
     ]
    }
   ],
   "source": [
    "# confidence_interval = ending_cumulative_returns.quantile(q=[0.05, 0.95])\n",
    "print(f'Expected cumulative return at yr 30 for 10th percentile is: {confidence_interval.iloc[0]}')\n",
    "print(f'Expected cumulative return at yr 30 for 10th percentile is: {ending_cumulative_returns.median()}')\n",
    "print(f'Expected cumulative return at yr 30 for 90th percentile is: {confidence_interval.iloc[1]}')\n"
   ]
  },
  {
   "cell_type": "code",
   "execution_count": 96,
   "metadata": {},
   "outputs": [
    {
     "data": {
      "text/plain": [
       "1.784259655077452"
      ]
     },
     "execution_count": 96,
     "metadata": {},
     "output_type": "execute_result"
    }
   ],
   "source": [
    "confidence_interval.iloc[1]"
   ]
  },
  {
   "cell_type": "code",
   "execution_count": null,
   "metadata": {},
   "outputs": [],
   "source": [
    "ending_cumulative_returns.median()"
   ]
  },
  {
   "cell_type": "markdown",
   "metadata": {},
   "source": [
    "### Given an initial investment of `$20,000`, what is the expected portfolio return in dollars at the 10th, 50th, and 90th percentiles?"
   ]
  },
  {
   "cell_type": "code",
   "execution_count": 110,
   "metadata": {},
   "outputs": [
    {
     "name": "stdout",
     "output_type": "stream",
     "text": [
      "$555.87\n",
      "$35,129.33\n",
      "$35,685.19\n",
      "There is a 90% chance that an initial investment of $20,000 in this portfolio over the next 30 trading years will end within in the range of $555.87 for the 10th percentile, $35,129.33 for the 50th percentile, and $35,685.19 for the 90th percentile\n"
     ]
    }
   ],
   "source": [
    "initial_investment = 20000\n",
    "\n",
    "# Calculate cumulative profit/loss of lower and upper bound\n",
    "#weights are hardcoaded for now\n",
    "cumulative_pnl_lower_bound = initial_investment *     ((confidence_interval.iloc[0] - 1)/1) #(.4*agg_last_price+.6*spy_last_price)) / (.4*agg_last_price+.6*spy_last_price))\n",
    "cumulative_pnl_mid_bound = initial_investment *     (((confidence_interval.iloc[1] -confidence_interval.iloc[0]) - 1)/1) #(.4*agg_last_price+.6*spy_last_price)) / (.4*agg_last_price+.6*spy_last_price))\n",
    "cumulative_pnl_upper_bound = initial_investment *     ((confidence_interval.iloc[1] - 1)/1) #(.4*agg_last_price+.6*spy_last_price)) / (.4*agg_last_price+.6*spy_last_price))\n",
    "\n",
    "# Add the initial investment to the cumulative profit/loss of lower and upper bound\n",
    "ending_investment_lower_bound = initial_investment + cumulative_pnl_lower_bound\n",
    "ending_investment_mid_bound = initial_investment + cumulative_pnl_mid_bound\n",
    "ending_investment_upper_bound = initial_investment + cumulative_pnl_upper_bound\n",
    "print(locale.currency(ending_investment_lower_bound,grouping=True))\n",
    "print(locale.currency(ending_investment_mid_bound,grouping=True))\n",
    "print(locale.currency(ending_investment_upper_bound,grouping=True))\n",
    "# Print the results\n",
    "print(f\"There is a 90% chance that an initial investment of $20,000 in this portfolio\"\n",
    "      f\" over the next 30 trading years will end within in the range of\"\n",
    "      f\" {locale.currency(ending_investment_lower_bound,grouping=True)} for the 10th percentile, {locale.currency(ending_investment_mid_bound,grouping=True)} for the 50th percentile, and {locale.currency(ending_investment_upper_bound,grouping=True)} for the 90th percentile\")"
   ]
  },
  {
   "cell_type": "markdown",
   "metadata": {},
   "source": [
    "### Given the current projected annual income from the Plaid analysis, will a 4% withdraw rate from the retirement portfolio meet or exceed that value at the 10th percentile?\n",
    "\n",
    "Note: This is effectively saying that 90% of the expected returns will be greater than the return at the 10th percentile, so this can help measure the uncertainty about having enough funds at retirement"
   ]
  },
  {
   "cell_type": "code",
   "execution_count": 103,
   "metadata": {},
   "outputs": [
    {
     "data": {
      "text/plain": [
       "35.49989544522024"
      ]
     },
     "execution_count": 103,
     "metadata": {},
     "output_type": "execute_result"
    }
   ],
   "source": [
    "#projected annual income before taxes =$7,389?\n",
    ".04 * (initial_investment * ending_cumulative_returns.quantile(.1))\n"
   ]
  },
  {
   "cell_type": "markdown",
   "metadata": {},
   "source": [
    "### How would a 50% increase in the initial investment amount affect the 4% retirement withdrawal?"
   ]
  },
  {
   "cell_type": "code",
   "execution_count": null,
   "metadata": {},
   "outputs": [],
   "source": [
    "# YOUR CODE HERE"
   ]
  },
  {
   "cell_type": "markdown",
   "metadata": {},
   "source": [
    "### Optional Challenge\n",
    "\n",
    "In this section, you will calculate and plot the cumulative returns for the median and 90% confidence intervals. This plot shows the expected cumulative returns for any given day between the first day and the last day of investment. "
   ]
  },
  {
   "cell_type": "code",
   "execution_count": null,
   "metadata": {},
   "outputs": [],
   "source": [
    "# YOUR CODE HERE"
   ]
  }
 ],
 "metadata": {
  "kernel_info": {
   "name": "dev"
  },
  "kernelspec": {
   "display_name": "Python 3",
   "language": "python",
   "name": "python3"
  },
  "language_info": {
   "codemirror_mode": {
    "name": "ipython",
    "version": 3
   },
   "file_extension": ".py",
   "mimetype": "text/x-python",
   "name": "python",
   "nbconvert_exporter": "python",
   "pygments_lexer": "ipython3",
   "version": "3.7.6"
  },
  "nteract": {
   "version": "0.12.3"
  }
 },
 "nbformat": 4,
 "nbformat_minor": 4
}
