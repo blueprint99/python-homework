{
 "cells": [
  {
   "cell_type": "code",
   "execution_count": 6,
   "metadata": {},
   "outputs": [],
   "source": [
    "import subprocess\n",
    "import pandas as pd\n",
    "import os\n",
    "import json\n",
    "from bit import wif_to_key\n",
    "from dotenv import load_dotenv\n",
    "from web3 import Web3\n",
    "from web3.middleware import geth_poa_middleware\n",
    "from eth_account import Account\n",
    "from constants import *"
   ]
  },
  {
   "cell_type": "markdown",
   "metadata": {},
   "source": [
    "## Deriving the wallet keys"
   ]
  },
  {
   "cell_type": "code",
   "execution_count": 22,
   "metadata": {},
   "outputs": [],
   "source": [
    "def derive_wallets ():\n",
    "    types= [ETH, BTCTEST, BTC]\n",
    "    mnemonic = os.getenv('MNEMONIC')\n",
    "    coins = {}\n",
    "    for i in types:\n",
    "        command=f'php derive -g --mnemonic=mnemonic --cols=path,address,privkey,pubkey,pubkeyhash,xprv,xpub,index --format=json --numderive=3 --coin={i}'\n",
    "        p = subprocess.Popen(command, stdout=subprocess.PIPE, shell=True)\n",
    "        (output, err)= p.communicate()\n",
    "        keys = json.loads(output)\n",
    "        coins.update({i:keys})\n",
    "    return coins"
   ]
  },
  {
   "cell_type": "code",
   "execution_count": 23,
   "metadata": {},
   "outputs": [
    {
     "name": "stdout",
     "output_type": "stream",
     "text": [
      "0x82d63adc8be924a92ef77c6e3286c4e80eaebad63ba2b91c27801a62ba2f9410\n"
     ]
    },
    {
     "data": {
      "text/plain": [
       "'cVAgDoahzo5Ucdv8ioxxubvmE6LfU3ZQgJ21UvY4eC1xi6WkvnXe'"
      ]
     },
     "execution_count": 23,
     "metadata": {},
     "output_type": "execute_result"
    }
   ],
   "source": [
    "coins=derive_wallets()\n",
    "coins\n",
    "ETH_test_key1=coins[ETH][0]['privkey']\n",
    "print(ETH_test_key1)\n",
    "ETH_test_key2=coins[ETH][1]['privkey']\n",
    "BTCTEST_test_key2=coins[BTCTEST][0]['privkey']\n",
    "BTCTEST_test_key2"
   ]
  },
  {
   "cell_type": "markdown",
   "metadata": {},
   "source": [
    "## Linking the transaction signing libraries\n",
    "### Convert the privkey string in a child key to an account object"
   ]
  },
  {
   "cell_type": "code",
   "execution_count": 25,
   "metadata": {},
   "outputs": [
    {
     "data": {
      "text/plain": [
       "<eth_account.signers.local.LocalAccount at 0x15dd69dd648>"
      ]
     },
     "execution_count": 25,
     "metadata": {},
     "output_type": "execute_result"
    }
   ],
   "source": [
    "# def priv_key_to_account(coin,priv_key):\n",
    "#     if coin == ETH;\n",
    "# w3 = Web3(Web3.HTTPProvider('http://127.0.0.1:8545'))\n",
    "# w3.middleware_onion.inject(geth_poa_middleware, layer=0)\n",
    "\n",
    "ETH_test_acc1 = Account.privateKeyToAccount(ETH_test_key1);\n",
    "ETH_test_acc2 = Account.privateKeyToAccount(ETH_test_key2);\n",
    "ETH_test_acc1"
   ]
  },
  {
   "cell_type": "code",
   "execution_count": 198,
   "metadata": {},
   "outputs": [
    {
     "data": {
      "text/plain": [
       "<PrivateKeyTestnet: mtgb9hthmFpY1zidrYmZ24eTF87aBA147h>"
      ]
     },
     "execution_count": 198,
     "metadata": {},
     "output_type": "execute_result"
    }
   ],
   "source": [
    "from bit import PrivateKeyTestnet\n",
    "# BTCTEST_test = PrivateKeyTestnet(test_key2)\n",
    "BTCTEST_test = PrivateKeyTestnet(BTCTEST_test_key2)\n",
    "BTCTEST_test"
   ]
  },
  {
   "cell_type": "markdown",
   "metadata": {},
   "source": [
    "### Create the raw, unsigned transaction that contains all metadata needed to transact"
   ]
  },
  {
   "cell_type": "code",
   "execution_count": 144,
   "metadata": {},
   "outputs": [
    {
     "data": {
      "text/plain": [
       "'0x3De0A2fD4A90f9A160ebb2B8711192D1F0eB339D'"
      ]
     },
     "execution_count": 144,
     "metadata": {},
     "output_type": "execute_result"
    }
   ],
   "source": [
    "# ETH\n",
    "test_key3=coins[ETH][0]['address']\n",
    "test_key3"
   ]
  },
  {
   "cell_type": "code",
   "execution_count": 145,
   "metadata": {},
   "outputs": [
    {
     "data": {
      "text/plain": [
       "0"
      ]
     },
     "execution_count": 145,
     "metadata": {},
     "output_type": "execute_result"
    }
   ],
   "source": [
    "# amount has to be a large amount\n",
    "amount= 555555555*1000000\n",
    "# acc_balance = w3.eth.getBalance(account1)"
   ]
  },
  {
   "cell_type": "code",
   "execution_count": 185,
   "metadata": {},
   "outputs": [],
   "source": [
    "def create_raw_tx(coin, account, recipient, amount):\n",
    "    if coin == ETH:\n",
    "        gasEstimate = w3.eth.estimateGas(\n",
    "            {\"from\": account.address, \"to\": recipient, \"value\": amount}\n",
    "        )\n",
    "        return {\n",
    "            \"from\": account.address,\n",
    "            \"to\": recipient,\n",
    "            \"value\": amount,\n",
    "            \"gasPrice\": w3.eth.gasPrice,\n",
    "            \"gas\": gasEstimate,\n",
    "            \"nonce\": w3.eth.getTransactionCount(account.address),\n",
    "        }\n",
    "    else if coin  == BTCTEST:\n",
    "       Test = PrivateKeyTestnet.prepare_transaction(BTCTEST_test_acc3, [(BTCTEST_test_acc2, .001, BTC)])"
   ]
  },
  {
   "cell_type": "code",
   "execution_count": null,
   "metadata": {},
   "outputs": [],
   "source": []
  },
  {
   "cell_type": "code",
   "execution_count": 201,
   "metadata": {},
   "outputs": [
    {
     "data": {
      "text/plain": [
       "{'from': '0x3De0A2fD4A90f9A160ebb2B8711192D1F0eB339D',\n",
       " 'to': '0x3De0A2fD4A90f9A160ebb2B8711192D1F0eB339D',\n",
       " 'value': 555555555000000,\n",
       " 'gasPrice': 20000000000,\n",
       " 'gas': 21000,\n",
       " 'nonce': 0}"
      ]
     },
     "execution_count": 201,
     "metadata": {},
     "output_type": "execute_result"
    }
   ],
   "source": [
    "## nonose not coming up\n",
    "## reciepient only works if privkey is entered\n",
    "create_raw_tx(ETH, ETH_test_acc1, '0x3De0A2fD4A90f9A160ebb2B8711192D1F0eB339D', amount)"
   ]
  },
  {
   "cell_type": "code",
   "execution_count": 197,
   "metadata": {},
   "outputs": [
    {
     "data": {
      "text/plain": [
       "{'path': \"m/44'/1'/0'/0/1\",\n",
       " 'address': 'mxwSU31v1NtbUi6Pc5bN9BgmmAGw13JdvX',\n",
       " 'privkey': 'cRG5vrAkkq3ZkTmT2mmqCgbxd8niBdXx3ocDMd1771oSzJDvqXiC',\n",
       " 'pubkey': '02f4468eae06b195a4f83cc63d680d015d512af60288977e0283fd4299bfcde24b',\n",
       " 'pubkeyhash': 'bf1ba366dd65a4824c22f497bbff1fae89007841',\n",
       " 'xprv': 'tprv8kmimjp9GYq9FvSyaAKU2MY38GBpiMHEsjgMtnLaMhyZQPzAiEM6ZTC8z9vdTsJVRQDcoCvLeWEHiPWWLpiGMjoYcffLhXJXNbJawYjKTof',\n",
       " 'xpub': 'tpubDHTkv9rPQvWp9PUmToz4RmC9hHhksgU9T3H9BJNsmymxEtEwLdAgjwp1AHtm7kbkbHvsC3zA3cjHi6DAFtGCvFMgY961mo7mg5ABBu21126',\n",
       " 'index': 1}"
      ]
     },
     "execution_count": 197,
     "metadata": {},
     "output_type": "execute_result"
    }
   ],
   "source": [
    "BTCTEST_test_acc3= coins[BTCTEST][1]#['address']\n",
    "BTCTEST_test_acc3"
   ]
  },
  {
   "cell_type": "code",
   "execution_count": 196,
   "metadata": {},
   "outputs": [
    {
     "ename": "ValueError",
     "evalue": "Transactions must have at least one unspent.",
     "output_type": "error",
     "traceback": [
      "\u001b[1;31m---------------------------------------------------------------------------\u001b[0m",
      "\u001b[1;31mValueError\u001b[0m                                Traceback (most recent call last)",
      "\u001b[1;32m<ipython-input-196-1f5332399603>\u001b[0m in \u001b[0;36m<module>\u001b[1;34m\u001b[0m\n\u001b[0;32m      2\u001b[0m \u001b[0mBTCTEST_test_acc2\u001b[0m\u001b[1;33m=\u001b[0m \u001b[0mcoins\u001b[0m\u001b[1;33m[\u001b[0m\u001b[0mBTCTEST\u001b[0m\u001b[1;33m]\u001b[0m\u001b[1;33m[\u001b[0m\u001b[1;36m0\u001b[0m\u001b[1;33m]\u001b[0m\u001b[1;33m[\u001b[0m\u001b[1;34m'address'\u001b[0m\u001b[1;33m]\u001b[0m\u001b[1;33m\u001b[0m\u001b[1;33m\u001b[0m\u001b[0m\n\u001b[0;32m      3\u001b[0m \u001b[0mBTCTEST_test_acc2\u001b[0m\u001b[1;33m\u001b[0m\u001b[1;33m\u001b[0m\u001b[0m\n\u001b[1;32m----> 4\u001b[1;33m \u001b[0mtx_data\u001b[0m \u001b[1;33m=\u001b[0m \u001b[0mPrivateKeyTestnet\u001b[0m\u001b[1;33m.\u001b[0m\u001b[0mprepare_transaction\u001b[0m\u001b[1;33m(\u001b[0m\u001b[0mBTCTEST_test_acc3\u001b[0m\u001b[1;33m,\u001b[0m \u001b[1;33m[\u001b[0m\u001b[1;33m(\u001b[0m\u001b[0mBTCTEST_test_acc2\u001b[0m\u001b[1;33m,\u001b[0m \u001b[1;36m.001\u001b[0m\u001b[1;33m,\u001b[0m \u001b[0mBTC\u001b[0m\u001b[1;33m)\u001b[0m\u001b[1;33m]\u001b[0m\u001b[1;33m)\u001b[0m\u001b[1;33m\u001b[0m\u001b[1;33m\u001b[0m\u001b[0m\n\u001b[0m\u001b[0;32m      5\u001b[0m \u001b[0mtx_data\u001b[0m\u001b[1;33m\u001b[0m\u001b[1;33m\u001b[0m\u001b[0m\n",
      "\u001b[1;32m~\\Anaconda3\\envs\\ethereum\\lib\\site-packages\\bit\\wallet.py\u001b[0m in \u001b[0;36mprepare_transaction\u001b[1;34m(cls, address, outputs, compressed, fee, absolute_fee, leftover, combine, message, unspents, message_is_hex)\u001b[0m\n\u001b[0;32m    826\u001b[0m             \u001b[0mabsolute_fee\u001b[0m\u001b[1;33m=\u001b[0m\u001b[0mabsolute_fee\u001b[0m\u001b[1;33m,\u001b[0m\u001b[1;33m\u001b[0m\u001b[1;33m\u001b[0m\u001b[0m\n\u001b[0;32m    827\u001b[0m             \u001b[0mversion\u001b[0m\u001b[1;33m=\u001b[0m\u001b[1;34m'test'\u001b[0m\u001b[1;33m,\u001b[0m\u001b[1;33m\u001b[0m\u001b[1;33m\u001b[0m\u001b[0m\n\u001b[1;32m--> 828\u001b[1;33m             \u001b[0mmessage_is_hex\u001b[0m\u001b[1;33m=\u001b[0m\u001b[0mmessage_is_hex\u001b[0m\u001b[1;33m,\u001b[0m\u001b[1;33m\u001b[0m\u001b[1;33m\u001b[0m\u001b[0m\n\u001b[0m\u001b[0;32m    829\u001b[0m         )\n\u001b[0;32m    830\u001b[0m \u001b[1;33m\u001b[0m\u001b[0m\n",
      "\u001b[1;32m~\\Anaconda3\\envs\\ethereum\\lib\\site-packages\\bit\\transaction.py\u001b[0m in \u001b[0;36msanitize_tx_data\u001b[1;34m(unspents, outputs, fee, leftover, combine, message, compressed, absolute_fee, min_change, version, message_is_hex)\u001b[0m\n\u001b[0;32m    402\u001b[0m \u001b[1;33m\u001b[0m\u001b[0m\n\u001b[0;32m    403\u001b[0m     \u001b[1;32mif\u001b[0m \u001b[1;32mnot\u001b[0m \u001b[0munspents\u001b[0m\u001b[1;33m:\u001b[0m\u001b[1;33m\u001b[0m\u001b[1;33m\u001b[0m\u001b[0m\n\u001b[1;32m--> 404\u001b[1;33m         \u001b[1;32mraise\u001b[0m \u001b[0mValueError\u001b[0m\u001b[1;33m(\u001b[0m\u001b[1;34m'Transactions must have at least one unspent.'\u001b[0m\u001b[1;33m)\u001b[0m\u001b[1;33m\u001b[0m\u001b[1;33m\u001b[0m\u001b[0m\n\u001b[0m\u001b[0;32m    405\u001b[0m \u001b[1;33m\u001b[0m\u001b[0m\n\u001b[0;32m    406\u001b[0m     \u001b[1;31m# Temporary storage so all outputs precede messages.\u001b[0m\u001b[1;33m\u001b[0m\u001b[1;33m\u001b[0m\u001b[1;33m\u001b[0m\u001b[0m\n",
      "\u001b[1;31mValueError\u001b[0m: Transactions must have at least one unspent."
     ]
    }
   ],
   "source": [
    "# BTCTEST\n",
    "BTCTEST_test_acc2= coins[BTCTEST][0]['address']\n",
    "BTCTEST_test_acc2\n",
    "tx_data = PrivateKeyTestnet.prepare_transaction(BTCTEST_test_acc3, [(BTCTEST_test_acc2, .001, BTC)])\n",
    "tx_data "
   ]
  },
  {
   "cell_type": "code",
   "execution_count": 76,
   "metadata": {},
   "outputs": [
    {
     "ename": "NameError",
     "evalue": "name 'key1' is not defined",
     "output_type": "error",
     "traceback": [
      "\u001b[1;31m---------------------------------------------------------------------------\u001b[0m",
      "\u001b[1;31mNameError\u001b[0m                                 Traceback (most recent call last)",
      "\u001b[1;32m<ipython-input-76-a9eb4cabeae1>\u001b[0m in \u001b[0;36m<module>\u001b[1;34m\u001b[0m\n\u001b[0;32m      9\u001b[0m     \u001b[0moutputs\u001b[0m\u001b[1;33m.\u001b[0m\u001b[0mappend\u001b[0m\u001b[1;33m(\u001b[0m\u001b[1;33m(\u001b[0m\u001b[0maddress\u001b[0m\u001b[1;33m,\u001b[0m \u001b[1;36m0.001\u001b[0m\u001b[1;33m,\u001b[0m \u001b[1;34m\"btc\"\u001b[0m\u001b[1;33m)\u001b[0m\u001b[1;33m)\u001b[0m\u001b[1;33m\u001b[0m\u001b[1;33m\u001b[0m\u001b[0m\n\u001b[0;32m     10\u001b[0m \u001b[1;33m\u001b[0m\u001b[0m\n\u001b[1;32m---> 11\u001b[1;33m \u001b[0mprint\u001b[0m\u001b[1;33m(\u001b[0m\u001b[0mkey1\u001b[0m\u001b[1;33m.\u001b[0m\u001b[0msend\u001b[0m\u001b[1;33m(\u001b[0m\u001b[0moutputs\u001b[0m\u001b[1;33m)\u001b[0m\u001b[1;33m)\u001b[0m\u001b[1;33m\u001b[0m\u001b[1;33m\u001b[0m\u001b[0m\n\u001b[0m",
      "\u001b[1;31mNameError\u001b[0m: name 'key1' is not defined"
     ]
    }
   ],
   "source": [
    "# BTCTEST\n",
    "# replace with different addresses\n",
    "addresses = [\n",
    "    \"n4M7Ds2S7dsXxHEtNq8q45yRhJ4od9iMQx\"\n",
    "]\n",
    "\n",
    "outputs = []\n",
    "for address in addresses:\n",
    "    outputs.append((address, 0.001, \"btc\"))\n",
    "\n",
    "print(key1.send(outputs))"
   ]
  },
  {
   "cell_type": "markdown",
   "metadata": {},
   "source": [
    "## Call Sign Send Transaction to the designated network."
   ]
  },
  {
   "cell_type": "code",
   "execution_count": null,
   "metadata": {},
   "outputs": [],
   "source": []
  },
  {
   "cell_type": "code",
   "execution_count": 173,
   "metadata": {},
   "outputs": [],
   "source": [
    "def send_tx(account, recipient, amount):\n",
    "    tx = create_raw_tx(account, recipient, amount)\n",
    "    signed_tx = account.sign_transaction(tx)\n",
    "    result = w3.eth.sendRawTransaction(signed_tx.rawTransaction)\n",
    "    print(result.hex())\n",
    "    return result.hex()\n"
   ]
  },
  {
   "cell_type": "code",
   "execution_count": null,
   "metadata": {},
   "outputs": [],
   "source": [
    "send_tx(account_two,account_one.address,33333)"
   ]
  }
 ],
 "metadata": {
  "kernelspec": {
   "display_name": "Python 3",
   "language": "python",
   "name": "python3"
  },
  "language_info": {
   "codemirror_mode": {
    "name": "ipython",
    "version": 3
   },
   "file_extension": ".py",
   "mimetype": "text/x-python",
   "name": "python",
   "nbconvert_exporter": "python",
   "pygments_lexer": "ipython3",
   "version": "3.7.7"
  }
 },
 "nbformat": 4,
 "nbformat_minor": 4
}
